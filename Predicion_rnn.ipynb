{
 "cells": [
  {
   "cell_type": "markdown",
   "metadata": {
    "colab_type": "text",
    "id": "xpAuMVCwfWs8"
   },
   "source": [
    "# Red Neuronal Recurrente"
   ]
  },
  {
   "cell_type": "markdown",
   "metadata": {
    "colab_type": "text",
    "id": "nxJfRe4bfYVA"
   },
   "source": [
    "## Preprocesado de datos"
   ]
  },
  {
   "cell_type": "markdown",
   "metadata": {
    "colab_type": "text",
    "id": "ir9zwETrfbrp"
   },
   "source": [
    "### Importación de librerias"
   ]
  },
  {
   "cell_type": "code",
   "execution_count": 1,
   "metadata": {
    "colab": {},
    "colab_type": "code",
    "id": "ZT1f24vHffuf"
   },
   "outputs": [],
   "source": [
    "import numpy as np\n",
    "import matplotlib.pyplot as plt\n",
    "import pandas as pd\n",
    "from pandas_datareader import data, wb\n",
    "import datetime"
   ]
  },
  {
   "cell_type": "markdown",
   "metadata": {
    "colab_type": "text",
    "id": "nQ47JAxrgmaL"
   },
   "source": [
    "### Training set"
   ]
  },
  {
   "cell_type": "code",
   "execution_count": 2,
   "metadata": {
    "colab": {},
    "colab_type": "code",
    "id": "1xiv3pJOgqY3"
   },
   "outputs": [],
   "source": [
    "start = datetime.datetime(2010, 1, 1)\n",
    "end = datetime.datetime(2016,1,1)\n",
    "dataset_train = data.DataReader('SAN.MC', 'yahoo', start, end).drop(['High','Low','Open','Volume','Adj Close'],axis=1).rename(columns={'Close':'SAN'})\n",
    "training_set = dataset_train.values"
   ]
  },
  {
   "cell_type": "markdown",
   "metadata": {
    "colab_type": "text",
    "id": "HT8_2UJegtG5"
   },
   "source": [
    "### Feature Scaling"
   ]
  },
  {
   "cell_type": "code",
   "execution_count": 3,
   "metadata": {
    "colab": {},
    "colab_type": "code",
    "id": "OTrF2kR7gx9x"
   },
   "outputs": [],
   "source": [
    "from sklearn.preprocessing import MinMaxScaler\n",
    "sc = MinMaxScaler(feature_range = (0, 1))\n",
    "training_set_scaled = sc.fit_transform(training_set)"
   ]
  },
  {
   "cell_type": "code",
   "execution_count": 4,
   "metadata": {},
   "outputs": [
    {
     "data": {
      "text/plain": [
       "1535"
      ]
     },
     "execution_count": 4,
     "metadata": {},
     "output_type": "execute_result"
    }
   ],
   "source": [
    "training_set_scaled.shape[0]"
   ]
  },
  {
   "cell_type": "markdown",
   "metadata": {
    "colab_type": "text",
    "id": "JyYgYocqhNUg"
   },
   "source": [
    "### Creación de estructura.\n",
    "Este es el paso mas importante pues aquí definimos de qué exactamente aprende la red neuronal. En este caso al escoger el paso teporal igual a sesenta, la red neuronal se fija en los 60 pasos anteriores para predecir un tiempo T. Este valor se obtiene probando que la red consiga captar toda la información necesaria sin ser sobreentrenada. Por lo tanto para obtener una predicción la red se fija en lo ocurrido durante los dos meses anteriores."
   ]
  },
  {
   "cell_type": "code",
   "execution_count": 5,
   "metadata": {
    "colab": {},
    "colab_type": "code",
    "id": "iofU21B0i6ST"
   },
   "outputs": [],
   "source": [
    "X_train = []\n",
    "y_train = []\n",
    "for i in range(60, training_set_scaled.shape[0]):\n",
    "    X_train.append(training_set_scaled[i-60:i, 0])\n",
    "    y_train.append(training_set_scaled[i, 0])\n",
    "X_train, y_train = np.array(X_train), np.array(y_train)"
   ]
  },
  {
   "cell_type": "code",
   "execution_count": 6,
   "metadata": {
    "colab": {},
    "colab_type": "code",
    "id": "FOXqJHmNjBkz"
   },
   "outputs": [],
   "source": [
    "X_train = np.reshape(X_train, (X_train.shape[0], X_train.shape[1], 1))"
   ]
  },
  {
   "cell_type": "markdown",
   "metadata": {
    "colab_type": "text",
    "id": "ZRRSOJeVjEWV"
   },
   "source": [
    "## Construyendo y entrenando la RNN"
   ]
  },
  {
   "cell_type": "markdown",
   "metadata": {
    "colab_type": "text",
    "id": "k4XV88JMjHXG"
   },
   "source": [
    "### Importación de Keras y librerías"
   ]
  },
  {
   "cell_type": "code",
   "execution_count": 7,
   "metadata": {
    "colab": {
     "base_uri": "https://localhost:8080/",
     "height": 34
    },
    "colab_type": "code",
    "id": "9JRnqsxEjKsD",
    "outputId": "b3e23e78-18aa-4396-c923-c877b8de60e4"
   },
   "outputs": [],
   "source": [
    "from keras.models import Sequential\n",
    "from keras.layers import Dense\n",
    "from keras.layers import LSTM\n",
    "from keras.layers import Dropout"
   ]
  },
  {
   "cell_type": "markdown",
   "metadata": {},
   "source": [
    "Se define la red neuronal de manera recurrente, se busca un modelo con muchas unidades de celdas LSTM pues se quiere que este modelo sea robusto. Se añaden capas de Dropout que permiten regularizar y evitar el overfitting."
   ]
  },
  {
   "cell_type": "code",
   "execution_count": 8,
   "metadata": {
    "colab": {},
    "colab_type": "code",
    "id": "1338dJ0UjRKH"
   },
   "outputs": [],
   "source": [
    "regressor = Sequential()"
   ]
  },
  {
   "cell_type": "code",
   "execution_count": 9,
   "metadata": {
    "colab": {},
    "colab_type": "code",
    "id": "2hIinyXUjbVU"
   },
   "outputs": [],
   "source": [
    "# Capa de entrada\n",
    "regressor.add(LSTM(units = 50, return_sequences = True, input_shape = (X_train.shape[1], 1)))\n",
    "regressor.add(Dropout(0.2))\n",
    "# Capas interiores\n",
    "regressor.add(LSTM(units = 50, return_sequences = True))\n",
    "regressor.add(Dropout(0.2))\n",
    "regressor.add(LSTM(units = 50, return_sequences = True))\n",
    "regressor.add(Dropout(0.2))\n",
    "regressor.add(LSTM(units = 50))\n",
    "regressor.add(Dropout(0.2))\n",
    "\n",
    "# Capa final\n",
    "regressor.add(Dense(units = 1))"
   ]
  },
  {
   "cell_type": "markdown",
   "metadata": {
    "colab_type": "text",
    "id": "zLx4K7uUkPSh"
   },
   "source": [
    "### Compilación de RNN\n",
    "Para RNN se prueba entre adam y rms , puesto que estamos haciendo regresiones se usa mse"
   ]
  },
  {
   "cell_type": "code",
   "execution_count": 10,
   "metadata": {
    "colab": {},
    "colab_type": "code",
    "id": "XTrhVN-tkbko"
   },
   "outputs": [],
   "source": [
    "regressor.compile(optimizer = 'adam', loss = 'mean_squared_error')"
   ]
  },
  {
   "cell_type": "markdown",
   "metadata": {
    "colab_type": "text",
    "id": "-mPhwKGkkebi"
   },
   "source": [
    "### Entrenamiento"
   ]
  },
  {
   "cell_type": "code",
   "execution_count": 11,
   "metadata": {
    "colab": {
     "base_uri": "https://localhost:8080/",
     "height": 1000
    },
    "colab_type": "code",
    "id": "I06Nkrz5kkb-",
    "outputId": "dc9d947a-4d5c-4dbc-ed45-31bf44b98dfb"
   },
   "outputs": [
    {
     "name": "stdout",
     "output_type": "stream",
     "text": [
      "Epoch 1/100\n",
      "47/47 [==============================] - 11s 103ms/step - loss: 0.0203\n",
      "Epoch 2/100\n",
      "47/47 [==============================] - 6s 118ms/step - loss: 0.0055\n",
      "Epoch 3/100\n",
      "47/47 [==============================] - 5s 99ms/step - loss: 0.0047\n",
      "Epoch 4/100\n",
      "47/47 [==============================] - 5s 96ms/step - loss: 0.0043\n",
      "Epoch 5/100\n",
      "47/47 [==============================] - 5s 97ms/step - loss: 0.0041\n",
      "Epoch 6/100\n",
      "47/47 [==============================] - 4s 95ms/step - loss: 0.0041\n",
      "Epoch 7/100\n",
      "47/47 [==============================] - 5s 103ms/step - loss: 0.0044\n",
      "Epoch 8/100\n",
      "47/47 [==============================] - 4s 95ms/step - loss: 0.0033\n",
      "Epoch 9/100\n",
      "47/47 [==============================] - 5s 104ms/step - loss: 0.0034\n",
      "Epoch 10/100\n",
      "47/47 [==============================] - 5s 107ms/step - loss: 0.0033\n",
      "Epoch 11/100\n",
      "47/47 [==============================] - 5s 107ms/step - loss: 0.0031\n",
      "Epoch 12/100\n",
      "47/47 [==============================] - 5s 112ms/step - loss: 0.0032\n",
      "Epoch 13/100\n",
      "47/47 [==============================] - 5s 116ms/step - loss: 0.0030\n",
      "Epoch 14/100\n",
      "47/47 [==============================] - 6s 123ms/step - loss: 0.0030\n",
      "Epoch 15/100\n",
      "47/47 [==============================] - 5s 100ms/step - loss: 0.0031\n",
      "Epoch 16/100\n",
      "47/47 [==============================] - 5s 100ms/step - loss: 0.0029\n",
      "Epoch 17/100\n",
      "47/47 [==============================] - 5s 96ms/step - loss: 0.0026\n",
      "Epoch 18/100\n",
      "47/47 [==============================] - 5s 98ms/step - loss: 0.0024\n",
      "Epoch 19/100\n",
      "47/47 [==============================] - 5s 97ms/step - loss: 0.0026\n",
      "Epoch 20/100\n",
      "47/47 [==============================] - 5s 109ms/step - loss: 0.0025\n",
      "Epoch 21/100\n",
      "47/47 [==============================] - 4s 93ms/step - loss: 0.0023\n",
      "Epoch 22/100\n",
      "47/47 [==============================] - 4s 91ms/step - loss: 0.0023\n",
      "Epoch 23/100\n",
      "47/47 [==============================] - 5s 97ms/step - loss: 0.0023\n",
      "Epoch 24/100\n",
      "47/47 [==============================] - 4s 93ms/step - loss: 0.0021\n",
      "Epoch 25/100\n",
      "47/47 [==============================] - 4s 96ms/step - loss: 0.0020\n",
      "Epoch 26/100\n",
      "47/47 [==============================] - 5s 112ms/step - loss: 0.0019\n",
      "Epoch 27/100\n",
      "47/47 [==============================] - 6s 116ms/step - loss: 0.0019\n",
      "Epoch 28/100\n",
      "47/47 [==============================] - 4s 94ms/step - loss: 0.0019\n",
      "Epoch 29/100\n",
      "47/47 [==============================] - 4s 94ms/step - loss: 0.0018\n",
      "Epoch 30/100\n",
      "47/47 [==============================] - 5s 97ms/step - loss: 0.0017\n",
      "Epoch 31/100\n",
      "47/47 [==============================] - 4s 92ms/step - loss: 0.0019\n",
      "Epoch 32/100\n",
      "47/47 [==============================] - 5s 109ms/step - loss: 0.0017\n",
      "Epoch 33/100\n",
      "47/47 [==============================] - 7s 148ms/step - loss: 0.0018\n",
      "Epoch 34/100\n",
      "47/47 [==============================] - 6s 133ms/step - loss: 0.0015\n",
      "Epoch 35/100\n",
      "47/47 [==============================] - 5s 106ms/step - loss: 0.0015\n",
      "Epoch 36/100\n",
      "47/47 [==============================] - 6s 118ms/step - loss: 0.0016\n",
      "Epoch 37/100\n",
      "47/47 [==============================] - 6s 121ms/step - loss: 0.0015\n",
      "Epoch 38/100\n",
      "47/47 [==============================] - 5s 113ms/step - loss: 0.0015\n",
      "Epoch 39/100\n",
      "47/47 [==============================] - 6s 128ms/step - loss: 0.0015\n",
      "Epoch 40/100\n",
      "47/47 [==============================] - 5s 115ms/step - loss: 0.0015\n",
      "Epoch 41/100\n",
      "47/47 [==============================] - 5s 114ms/step - loss: 0.0015\n",
      "Epoch 42/100\n",
      "47/47 [==============================] - 5s 102ms/step - loss: 0.0014\n",
      "Epoch 43/100\n",
      "47/47 [==============================] - 4s 91ms/step - loss: 0.0014\n",
      "Epoch 44/100\n",
      "47/47 [==============================] - 6s 120ms/step - loss: 0.0013\n",
      "Epoch 45/100\n",
      "47/47 [==============================] - 5s 110ms/step - loss: 0.0014\n",
      "Epoch 46/100\n",
      "47/47 [==============================] - 5s 103ms/step - loss: 0.0013\n",
      "Epoch 47/100\n",
      "47/47 [==============================] - 4s 95ms/step - loss: 0.0013\n",
      "Epoch 48/100\n",
      "47/47 [==============================] - 4s 95ms/step - loss: 0.0014\n",
      "Epoch 49/100\n",
      "47/47 [==============================] - 6s 118ms/step - loss: 0.0013\n",
      "Epoch 50/100\n",
      "47/47 [==============================] - 5s 108ms/step - loss: 0.0014\n",
      "Epoch 51/100\n",
      "47/47 [==============================] - 5s 116ms/step - loss: 0.0012\n",
      "Epoch 52/100\n",
      "47/47 [==============================] - 4s 95ms/step - loss: 0.0012\n",
      "Epoch 53/100\n",
      "47/47 [==============================] - 4s 93ms/step - loss: 0.0013\n",
      "Epoch 54/100\n",
      "47/47 [==============================] - 4s 92ms/step - loss: 0.0013\n",
      "Epoch 55/100\n",
      "47/47 [==============================] - 5s 104ms/step - loss: 0.0012\n",
      "Epoch 56/100\n",
      "47/47 [==============================] - 6s 118ms/step - loss: 0.0012\n",
      "Epoch 57/100\n",
      "47/47 [==============================] - 6s 126ms/step - loss: 0.0012\n",
      "Epoch 58/100\n",
      "47/47 [==============================] - 5s 106ms/step - loss: 0.0011\n",
      "Epoch 59/100\n",
      "47/47 [==============================] - 6s 118ms/step - loss: 0.0011\n",
      "Epoch 60/100\n",
      "47/47 [==============================] - 5s 98ms/step - loss: 0.0011\n",
      "Epoch 61/100\n",
      "47/47 [==============================] - 6s 117ms/step - loss: 0.0010\n",
      "Epoch 62/100\n",
      "47/47 [==============================] - 6s 125ms/step - loss: 0.0011\n",
      "Epoch 63/100\n",
      "47/47 [==============================] - 4s 93ms/step - loss: 0.0011\n",
      "Epoch 64/100\n",
      "47/47 [==============================] - 4s 90ms/step - loss: 0.0012\n",
      "Epoch 65/100\n",
      "47/47 [==============================] - 4s 94ms/step - loss: 0.0012\n",
      "Epoch 66/100\n",
      "47/47 [==============================] - 4s 92ms/step - loss: 0.0011\n",
      "Epoch 67/100\n",
      "47/47 [==============================] - 4s 93ms/step - loss: 0.0011\n",
      "Epoch 68/100\n",
      "47/47 [==============================] - 5s 102ms/step - loss: 0.0010\n",
      "Epoch 69/100\n",
      "47/47 [==============================] - 5s 98ms/step - loss: 9.6980e-04\n",
      "Epoch 70/100\n",
      "47/47 [==============================] - 4s 93ms/step - loss: 9.6436e-04\n",
      "Epoch 71/100\n",
      "47/47 [==============================] - 4s 91ms/step - loss: 0.0011\n",
      "Epoch 72/100\n",
      "47/47 [==============================] - 5s 98ms/step - loss: 0.0010\n",
      "Epoch 73/100\n",
      "47/47 [==============================] - 5s 99ms/step - loss: 9.3353e-04\n",
      "Epoch 74/100\n",
      "47/47 [==============================] - 5s 106ms/step - loss: 0.0010\n",
      "Epoch 75/100\n",
      "47/47 [==============================] - 6s 126ms/step - loss: 9.1956e-04\n",
      "Epoch 76/100\n",
      "47/47 [==============================] - 6s 123ms/step - loss: 8.7111e-04\n",
      "Epoch 77/100\n",
      "47/47 [==============================] - 6s 120ms/step - loss: 9.4854e-04\n",
      "Epoch 78/100\n",
      "47/47 [==============================] - 5s 99ms/step - loss: 9.2327e-04\n",
      "Epoch 79/100\n",
      "47/47 [==============================] - 5s 100ms/step - loss: 9.5446e-04\n",
      "Epoch 80/100\n",
      "47/47 [==============================] - 4s 94ms/step - loss: 9.6774e-04\n",
      "Epoch 81/100\n",
      "47/47 [==============================] - 5s 100ms/step - loss: 9.9767e-04\n",
      "Epoch 82/100\n",
      "47/47 [==============================] - 5s 104ms/step - loss: 9.2002e-04\n",
      "Epoch 83/100\n",
      "47/47 [==============================] - 7s 151ms/step - loss: 8.6667e-04\n",
      "Epoch 84/100\n",
      "47/47 [==============================] - 6s 136ms/step - loss: 9.0123e-04\n",
      "Epoch 85/100\n",
      "47/47 [==============================] - 5s 108ms/step - loss: 9.3639e-04\n",
      "Epoch 86/100\n",
      "47/47 [==============================] - 6s 120ms/step - loss: 9.9583e-04\n",
      "Epoch 87/100\n",
      "47/47 [==============================] - 5s 114ms/step - loss: 9.7815e-04\n",
      "Epoch 88/100\n",
      "47/47 [==============================] - 5s 110ms/step - loss: 8.2247e-04\n",
      "Epoch 89/100\n",
      "47/47 [==============================] - 5s 96ms/step - loss: 8.3446e-04\n",
      "Epoch 90/100\n",
      "47/47 [==============================] - 5s 104ms/step - loss: 9.4406e-04\n",
      "Epoch 91/100\n",
      "47/47 [==============================] - 5s 112ms/step - loss: 8.1758e-04\n",
      "Epoch 92/100\n",
      "47/47 [==============================] - 5s 111ms/step - loss: 8.8645e-04\n",
      "Epoch 93/100\n",
      "47/47 [==============================] - 5s 115ms/step - loss: 9.1480e-04\n",
      "Epoch 94/100\n",
      "47/47 [==============================] - 6s 139ms/step - loss: 9.2448e-04\n",
      "Epoch 95/100\n",
      "47/47 [==============================] - 5s 106ms/step - loss: 8.4624e-04\n",
      "Epoch 96/100\n",
      "47/47 [==============================] - 5s 101ms/step - loss: 8.6323e-04\n",
      "Epoch 97/100\n",
      "47/47 [==============================] - 7s 144ms/step - loss: 8.6076e-04\n",
      "Epoch 98/100\n",
      "47/47 [==============================] - 9s 186ms/step - loss: 7.7990e-04\n"
     ]
    },
    {
     "name": "stdout",
     "output_type": "stream",
     "text": [
      "Epoch 99/100\n",
      "47/47 [==============================] - 7s 142ms/step - loss: 8.0305e-04\n",
      "Epoch 100/100\n",
      "47/47 [==============================] - 4s 95ms/step - loss: 8.3434e-04\n"
     ]
    },
    {
     "data": {
      "text/plain": [
       "<keras.callbacks.History at 0x7ffe0b826fd0>"
      ]
     },
     "execution_count": 11,
     "metadata": {},
     "output_type": "execute_result"
    }
   ],
   "source": [
    "regressor.fit(X_train, y_train, epochs = 100, batch_size = 32)"
   ]
  },
  {
   "cell_type": "markdown",
   "metadata": {
    "colab_type": "text",
    "id": "4hRau_lIkrE8"
   },
   "source": [
    "## Predicciones"
   ]
  },
  {
   "cell_type": "markdown",
   "metadata": {
    "colab_type": "text",
    "id": "SgJO6qEDksxD"
   },
   "source": [
    "### Test set\n",
    "Primer trimestre de 2016"
   ]
  },
  {
   "cell_type": "code",
   "execution_count": 12,
   "metadata": {
    "colab": {},
    "colab_type": "code",
    "id": "FmBT2zqukxTz"
   },
   "outputs": [
    {
     "data": {
      "text/plain": [
       "(60, 1)"
      ]
     },
     "execution_count": 12,
     "metadata": {},
     "output_type": "execute_result"
    }
   ],
   "source": [
    "start_test = datetime.datetime(2016, 1, 1)\n",
    "end_test = datetime.datetime(2016,3,29)\n",
    "dataset_test = data.DataReader('SAN.MC', 'yahoo', start_test, end_test).drop(['High','Low','Open','Volume','Adj Close'],axis=1).rename(columns={'Close':'SAN'})\n",
    "real_stock_price = dataset_test.values\n",
    "real_stock_price.shape"
   ]
  },
  {
   "cell_type": "markdown",
   "metadata": {},
   "source": [
    "### Obtención de predicciones"
   ]
  },
  {
   "cell_type": "code",
   "execution_count": 13,
   "metadata": {
    "colab": {},
    "colab_type": "code",
    "id": "emikTvUpk3Ck"
   },
   "outputs": [],
   "source": [
    "dataset_total = pd.concat((dataset_train['SAN'], dataset_test['SAN']), axis = 0)\n",
    "inputs = dataset_total[len(dataset_total) - len(dataset_test) - 60:].values\n",
    "inputs = inputs.reshape(-1,1)\n",
    "inputs = sc.transform(inputs)\n",
    "X_test = []\n",
    "for i in range(60, 120):\n",
    "    X_test.append(inputs[i-60:i, 0])\n",
    "X_test = np.array(X_test)\n",
    "X_test = np.reshape(X_test, (X_test.shape[0], X_test.shape[1], 1))\n",
    "predicted_stock_price = regressor.predict(X_test)\n",
    "predicted_stock_price = sc.inverse_transform(predicted_stock_price)"
   ]
  },
  {
   "cell_type": "markdown",
   "metadata": {
    "colab_type": "text",
    "id": "iFTNs3YHk6FQ"
   },
   "source": [
    "### Visualizando los resultados"
   ]
  },
  {
   "cell_type": "code",
   "execution_count": 14,
   "metadata": {
    "colab": {
     "base_uri": "https://localhost:8080/",
     "height": 295
    },
    "colab_type": "code",
    "id": "8OUI8U49k9tH",
    "outputId": "db0ed15e-071b-4bae-955e-0eda3df95238"
   },
   "outputs": [
    {
     "data": {
      "image/png": "[encoded data removed]",
      "text/plain": [
       "<Figure size 432x288 with 1 Axes>"
      ]
     },
     "metadata": {
      "needs_background": "light"
     },
     "output_type": "display_data"
    }
   ],
   "source": [
    "plt.plot(real_stock_price, color = 'blue', label = 'Real')\n",
    "plt.plot(predicted_stock_price, color = 'red', label = 'Predicción')\n",
    "plt.title('Predicción del precio de cierre para Banco Santander')\n",
    "plt.xlabel('Tiempo')\n",
    "plt.ylabel('Precio de cierre para Banco Santander')\n",
    "plt.legend()\n",
    "plt.show()\n",
    "\n",
    "rnn = predicted_stock_price\n",
    "real = real_stock_price"
   ]
  },
  {
   "cell_type": "code",
   "execution_count": 15,
   "metadata": {},
   "outputs": [],
   "source": [
    "from datetime import date, timedelta\n",
    "delta = end_test - start_test    \n",
    "dates = []\n",
    "for i in range(delta.days + 1):\n",
    "    day = start_test + timedelta(days=i)\n",
    "    if(day.weekday()<5):dates.append(day)\n",
    "    \n",
    "dates = np.array(dates[:-3])\n",
    "dates.shape\n",
    "test = np.array((dates, real.reshape(60), rnn.reshape(60))).transpose()\n",
    "df_rnn =  pd.DataFrame(test).rename(columns={0:'Fecha',1:'RNN',2:'real'}).set_index('Fecha')\n",
    "df_rnn.to_csv('prediccion3.csv')"
   ]
  }
 ],
 "metadata": {
  "colab": {
   "collapsed_sections": [],
   "name": "recurrent_neural_network.ipynb",
   "provenance": []
  },
  "kernelspec": {
   "display_name": "Python 3",
   "language": "python",
   "name": "python3"
  },
  "language_info": {
   "codemirror_mode": {
    "name": "ipython",
    "version": 3
   },
   "file_extension": ".py",
   "mimetype": "text/x-python",
   "name": "python",
   "nbconvert_exporter": "python",
   "pygments_lexer": "ipython3",
   "version": "3.8.8"
  }
 },
 "nbformat": 4,
 "nbformat_minor": 1
}
